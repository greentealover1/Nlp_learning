{
  "nbformat": 4,
  "nbformat_minor": 0,
  "metadata": {
    "colab": {
      "provenance": []
    },
    "kernelspec": {
      "name": "python3",
      "display_name": "Python 3"
    },
    "language_info": {
      "name": "python"
    }
  },
  "cells": [
    {
      "cell_type": "markdown",
      "source": [
        "## 인코더와 디코더  "
      ],
      "metadata": {
        "id": "Wgdq-9erneEB"
      }
    },
    {
      "cell_type": "markdown",
      "source": [
        "BERT:  \n",
        "트랜스포머 인코더 구조를 사용, 개체명 인식과 분류작업에서 뛰어남, 양방향 문맥을 반영하도록 학습  \n",
        "GPT:  \n",
        "트랜스포머 디코더 구조를 사용, 언어모델링에 뛰어남  \n",
        "ex)요약문을 생성, 번역문 생성 및 챗봇 답변 생성 등에 적합하다  \n",
        "BART,T5:  \n",
        "트랜스포머 인코더-디코더 구조 사용.번역 및 요약작업에 뛰어나다  "
      ],
      "metadata": {
        "id": "DL4TpSNenr6e"
      }
    },
    {
      "cell_type": "markdown",
      "source": [
        "## BART(인코더-디코더 구조의 언어모델)  "
      ],
      "metadata": {
        "id": "O25uDW0apFDm"
      }
    },
    {
      "cell_type": "markdown",
      "source": [
        "### BART"
      ],
      "metadata": {
        "id": "1YqEwGKeqM6-"
      }
    },
    {
      "cell_type": "markdown",
      "source": [
        "트랜스포머 인코더-디코더 구조로써 같은 크기의 디코더 또는 인코더 모델에 비해 뛰어난 성능을 보였다(번역,요약,챗봇 답변 생성등 다 가능)  "
      ],
      "metadata": {
        "id": "LiIei84_qOOG"
      }
    },
    {
      "cell_type": "markdown",
      "source": [
        "### BART의 사전학습"
      ],
      "metadata": {
        "id": "RTCL1FvpqYn7"
      }
    },
    {
      "cell_type": "markdown",
      "source": [
        "BERT-양방향 문맥을 반영하여 마스크드 언어모델링으로 학습  \n",
        "GPT-이전 단어들로부터 다음 단어를 예측하는 방식으로 학습  \n",
        "BART-인코더에서 훼손된 문장을 디코더에서 복원하는 방식으로 학습  "
      ],
      "metadata": {
        "id": "OLkSrwZXqsad"
      }
    },
    {
      "cell_type": "markdown",
      "source": [
        "cf)인코더-디코더 구조를 가져 인코더의 입력문장과 디코더가 생성하는 문장 길이가 서로 달라도 된다는 특징을 가짐  "
      ],
      "metadata": {
        "id": "qSHKPaI2q4TM"
      }
    },
    {
      "cell_type": "markdown",
      "source": [
        "1) Token Masking  \n",
        "입력문장에서 임의의 단어하나를 마스킹하여 입력문장을 훼손시키고 디코더가 원래 문장을 정확하게 예측, 복원하도록 학습하는 방식  \n",
        "인코더의 입력과 디코더의 레이블  \n",
        "\n",
        "*   인코더 입력(변형된 문장): \"The children played <mask> outside until it got dark.\"\n",
        "*   디코더의 레이블(원본 문장): \"The children played soccer outside until it got dark.\"  \n",
        "\n",
        "이를 통해 마스크된 단어를 정확하게 예측할 수 있게 된다.  \n",
        "< s >와 < /s >토큰을 통해 모델은 문장의 시작, 끝을 인식  \n",
        "-->전체 문장구조와 흐름을 이해하고 재구성하는 능력 개발  \n"
      ],
      "metadata": {
        "id": "OVczE7-TrIXY"
      }
    },
    {
      "cell_type": "markdown",
      "source": [
        "2) Text Infilling  \n",
        "입력문장에서 하나이상의 연속된 단어를 마스킹하여 입력문장을 훼손시키고 디코더가 원래 문장을 정확하게 예측, 복원하도록 학습하는 방식  \n",
        "인코더 입력과 디코더 레이블  \n",
        "- 인코더 입력(변형된 문장):He goes <mask> to the gym.  \n",
        "- 디코더 레이블(원본문장):He goes to school and then to the gym.  \n",
        "\n",
        "-->마스킹된 연속된 여러 단어를 정확히 예측하는 능력과 전체 문장 구조를 이해하고 재구성하는 능력 얻음  "
      ],
      "metadata": {
        "id": "pANw40ovr7kH"
      }
    },
    {
      "cell_type": "markdown",
      "source": [
        "3) Sentence Permutation  \n",
        "여러 문장으로 구성된 텍스트의 문장순서를 무작위로 섞고, 디코더가 원래 순서의 문장들을 정확하게 예측,복원하도록 학습하는 방식  \n",
        "인코더 입력과 디코더 레이블  \n",
        "- 인코더 입력(순서가 섞인 문장):They went to the cinema.He met his friend.He left the house.  \n",
        "- 디코더의 레이블:He left the house.He met his friend.They went to the cinema.  \n",
        "\n",
        "-->문장들의 올바른 순서를 예측하는 능력과 젅체 문서의 구조와 흐름을 이해할 수 있게됨  "
      ],
      "metadata": {
        "id": "fbsTvl0Wt1cF"
      }
    },
    {
      "cell_type": "markdown",
      "source": [
        "4) Document Rotation  \n",
        "전체 문서의 일부를 잘라내어 그 부분을 문서의 시작으로 설정하는 방식  \n",
        "인코더 입력과 디코더 레이블  \n",
        "- 인코더의 입력:She stayed dry.It was raining.She opened her umbrella.  \n",
        "- 디코더 레이블:It was raining.She opened her umbrella.She stayed dry.\n",
        "\n",
        "문서의 올바른 순서를 예측하여 전체 문서의 구조와 흐름을 이해하고 재구성하는 능력 얻음  "
      ],
      "metadata": {
        "id": "D7EhKCzTvAMm"
      }
    },
    {
      "cell_type": "markdown",
      "source": [
        "5) Token Deletion  \n",
        "입력문장에서 무작위로 토큰을 삭제하는 방식  \n",
        "(디코더가 일부토큰이 삭제된 문장을 원래 완전한 문장으로 복원하도록 학습)  \n",
        "인코더 입력과 디코더 레이블  \n",
        "- 인코더 입력:The cat on the mat.  \n",
        "- 디코더 레이블:The cat sat on the mat.  \n",
        "\n",
        "-->삭제된 토큰을 예측함으로써, 전체 문장 구조와 의미를 이해하고 재구성할 수 있게됨  "
      ],
      "metadata": {
        "id": "JTR6g1tAwIks"
      }
    },
    {
      "cell_type": "code",
      "execution_count": null,
      "metadata": {
        "id": "Yabs5AaqmbE4"
      },
      "outputs": [],
      "source": []
    }
  ]
}